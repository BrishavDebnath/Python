{
  "nbformat": 4,
  "nbformat_minor": 0,
  "metadata": {
    "colab": {
      "provenance": [],
      "authorship_tag": "ABX9TyM/UgDX42TjOWtdw4vmvOf6",
      "include_colab_link": true
    },
    "kernelspec": {
      "name": "python3",
      "display_name": "Python 3"
    },
    "language_info": {
      "name": "python"
    }
  },
  "cells": [
    {
      "cell_type": "markdown",
      "metadata": {
        "id": "view-in-github",
        "colab_type": "text"
      },
      "source": [
        "<a href=\"https://colab.research.google.com/github/BrishavDebnath/Python/blob/main/Assignment_06_02_2024.ipynb\" target=\"_parent\"><img src=\"https://colab.research.google.com/assets/colab-badge.svg\" alt=\"Open In Colab\"/></a>"
      ]
    },
    {
      "cell_type": "code",
      "execution_count": null,
      "metadata": {
        "id": "GAPy9RTNFO3d"
      },
      "outputs": [],
      "source": [
        "#Write a function to add,subtract,multiply and divide two numbers.\n",
        "#Write a function to reverse a string.\n",
        "#Write a function to find the largest of given numbers.\n",
        "#Write a function to check whether a given year is a leap year or not."
      ]
    },
    {
      "cell_type": "code",
      "source": [
        "#Write a function to add,subtract,multiply and divide two numbers.\n",
        "def calculator(num1,num2):\n",
        "  print(\"Addition is:\",num1+num2)\n",
        "  print(\"Subtraction is:\",num1-num2)\n",
        "  print(\"Multiplication is:\",num1*num2)\n",
        "  print(\"Division is:\",num1/num2)\n",
        "number1=int(input(\"Enter first Number:\"))\n",
        "number2=int(input(\"Enter second Number:\"))\n",
        "calculator(number1,number2)"
      ],
      "metadata": {
        "colab": {
          "base_uri": "https://localhost:8080/"
        },
        "id": "z-dlre1YF_fK",
        "outputId": "98f670ec-e31e-4e1f-f6a0-e5dfaa812cd9"
      },
      "execution_count": 2,
      "outputs": [
        {
          "output_type": "stream",
          "name": "stdout",
          "text": [
            "Enter first Number:45\n",
            "Enter second Number:50\n",
            "Addition is: 95\n",
            "Subtraction is: -5\n",
            "Multiplication is: 2250\n",
            "Division is: 0.9\n"
          ]
        }
      ]
    },
    {
      "cell_type": "code",
      "source": [
        "#Write a function to reverse a string.\n",
        "def revstring(str1):\n",
        "  n=len(str1)\n",
        "  str2=''\n",
        "  for i in range(n-1,-1,-1):\n",
        "    str2+=str1[i]\n",
        "  return str2\n",
        "str1=input(\"Enter a string:\")\n",
        "str2=revstring(str1)\n",
        "print(\"The Reversed string is:\",str2)\n",
        "\n",
        "\n"
      ],
      "metadata": {
        "colab": {
          "base_uri": "https://localhost:8080/"
        },
        "id": "CaX1aHAEHHPX",
        "outputId": "3225c995-4294-4317-8411-8670cfd118fa"
      },
      "execution_count": 7,
      "outputs": [
        {
          "output_type": "stream",
          "name": "stdout",
          "text": [
            "Enter a string:Brishav\n",
            "The Reversed string is: vahsirB\n"
          ]
        }
      ]
    },
    {
      "cell_type": "code",
      "source": [
        "#Write a function to find the largest of given numbers.\n",
        "def largestnum(list1):\n",
        "  largest=0\n",
        "  for i in list1:\n",
        "    if i>largest:\n",
        "      largest=i\n",
        "  return largest\n",
        "list1=[]\n",
        "for i in range(1,11):\n",
        "    num=int(input(\"Enter a number:\"))\n",
        "    list1.append(num)\n",
        "print(\"The Largest number is:\",largestnum(list1))\n"
      ],
      "metadata": {
        "colab": {
          "base_uri": "https://localhost:8080/"
        },
        "id": "QojpAKxALgex",
        "outputId": "21fc5f5e-5ed0-42bd-ec11-6fa10a656ec8"
      },
      "execution_count": 8,
      "outputs": [
        {
          "output_type": "stream",
          "name": "stdout",
          "text": [
            "Enter a number:25\n",
            "Enter a number:32\n",
            "Enter a number:45\n",
            "Enter a number:65\n",
            "Enter a number:54\n",
            "Enter a number:33\n",
            "Enter a number:76\n",
            "Enter a number:89\n",
            "Enter a number:98\n",
            "Enter a number:44\n",
            "The Largest number is: 98\n"
          ]
        }
      ]
    },
    {
      "cell_type": "code",
      "source": [
        "#Write a function to check whether a given year is a leap year or not.\n",
        "def leapyear(num):\n",
        "  if num%4==0 and num%100!=0 or num%400==0:\n",
        "    print(num,\"is a Leap Year.\")\n",
        "  else:\n",
        "    print(num,\"is not a Leap Year.\")\n",
        "num=int(input(\"Enter year:\"))\n",
        "leapyear(num)\n"
      ],
      "metadata": {
        "colab": {
          "base_uri": "https://localhost:8080/"
        },
        "id": "KTFsartKP7vs",
        "outputId": "6df77f40-d30c-48de-be02-e96632b25820"
      },
      "execution_count": 10,
      "outputs": [
        {
          "output_type": "stream",
          "name": "stdout",
          "text": [
            "Enter year:1900\n",
            "1900 is not a Leap Year.\n"
          ]
        }
      ]
    }
  ]
}