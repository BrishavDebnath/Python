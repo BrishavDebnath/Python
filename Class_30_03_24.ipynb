{
  "nbformat": 4,
  "nbformat_minor": 0,
  "metadata": {
    "colab": {
      "provenance": [],
      "authorship_tag": "ABX9TyPIXCRc7BBDZs9BZ+0xpZkm",
      "include_colab_link": true
    },
    "kernelspec": {
      "name": "python3",
      "display_name": "Python 3"
    },
    "language_info": {
      "name": "python"
    }
  },
  "cells": [
    {
      "cell_type": "markdown",
      "metadata": {
        "id": "view-in-github",
        "colab_type": "text"
      },
      "source": [
        "<a href=\"https://colab.research.google.com/github/BrishavDebnath/Python/blob/main/Class_30_03_24.ipynb\" target=\"_parent\"><img src=\"https://colab.research.google.com/assets/colab-badge.svg\" alt=\"Open In Colab\"/></a>"
      ]
    },
    {
      "cell_type": "code",
      "execution_count": null,
      "metadata": {
        "id": "EmSnA6EFeOnw"
      },
      "outputs": [],
      "source": [
        "# 1. Define a class named shape and it's subclass square. The square class has an init function which takes a length as argument. Both classes\n",
        "# have an area function which can print the area of the shape where shape's area is 0 by default."
      ]
    },
    {
      "cell_type": "code",
      "source": [
        "class Shape:\n",
        "  def __init__(self):\n",
        "    pass\n",
        "  def area(self):\n",
        "    return 0\n",
        "class Square(Shape):\n",
        "  def __init__(self,length):\n",
        "    self.length=length\n",
        "  def area(self):\n",
        "    print(\"Area of the Square is:\",self.length*self.length)\n",
        "n=int(input(\"Enter length:\"))\n",
        "A1=Square(n)\n",
        "A1.area()\n",
        "\n",
        ""
      ],
      "metadata": {
        "colab": {
          "base_uri": "https://localhost:8080/"
        },
        "id": "5-H5Po-RfhB3",
        "outputId": "84c3904b-345f-4027-bef7-0c4816e78b72"
      },
      "execution_count": 2,
      "outputs": [
        {
          "output_type": "stream",
          "name": "stdout",
          "text": [
            "Enter length:5\n",
            "Area of the Square is: 25\n"
          ]
        }
      ]
    },
    {
      "cell_type": "code",
      "source": [
        "# Correct code\n",
        "class Shape:\n",
        "  def __init__(self):\n",
        "    print(\"I am in Shape Class!\")\n",
        "  def area(self):\n",
        "    return 0\n",
        "\n",
        "class Square(Shape):\n",
        "  def __init__(self,length):\n",
        "    self.l=length\n",
        "    print(\"Welcome! I am in Square class!\")\n",
        "  def area(self):\n",
        "    print(self.l*self.l)\n",
        "\n",
        "S1=Shape()\n",
        "print(\"Area by default:\",S1.area())\n",
        "n=int(input(\"Enter length of the square:\"))\n",
        "A2=Square(n)\n",
        "A2.area()\n",
        "\n"
      ],
      "metadata": {
        "colab": {
          "base_uri": "https://localhost:8080/"
        },
        "id": "3xYruSrqjZWc",
        "outputId": "b86fbe43-2cda-43cc-ac27-42c740d4a63e"
      },
      "execution_count": 7,
      "outputs": [
        {
          "output_type": "stream",
          "name": "stdout",
          "text": [
            "I am in Shape Class!\n",
            "Area by default: 0\n",
            "Enter length of the square:25\n",
            "Welcome! I am in Square class!\n",
            "625\n"
          ]
        }
      ]
    },
    {
      "cell_type": "code",
      "source": [
        "#Using Inner class\n",
        "class Shape:\n",
        "  def __init__(self):\n",
        "    self.s=self.Square()\n",
        "    print(\"I am in Shape Class!\")\n",
        "  def area(self):\n",
        "    return 0\n",
        "\n",
        "  class Square():\n",
        "    def __init__(self):\n",
        "      print(\"Welcome! I am in Square class!\")\n",
        "    def Area(self,length):\n",
        "      self.l=length\n",
        "      print(\"Area of Square:\",self.l*self.l)\n",
        "\n",
        "n=int(input(\"Enter length:\"))\n",
        "A1=Shape()\n",
        "A1.s.Area(n)\n",
        ""
      ],
      "metadata": {
        "colab": {
          "base_uri": "https://localhost:8080/"
        },
        "id": "hHFiDVQlnJYi",
        "outputId": "e7465e7d-9a15-4e1d-a43d-414d4b64d648"
      },
      "execution_count": 12,
      "outputs": [
        {
          "output_type": "stream",
          "name": "stdout",
          "text": [
            "Enter length:23\n",
            "Welcome! I am in Square class!\n",
            "I am in Shape Class!\n",
            "Area of Square: 529\n"
          ]
        }
      ]
    },
    {
      "cell_type": "code",
      "source": [
        "\n",
        "#Abstract Class\n",
        "import abc\n",
        "from abc import ABC,abstractmethod\n",
        "class Employee:                    #Cannot make instances of classes having abstract methods\n",
        "  @abstractmethod\n",
        "  def sapID(self):\n",
        "    pass\n",
        "  @abstractmethod\n",
        "  def email(self):\n",
        "    pass\n",
        "  def name(self,name):\n",
        "    print(\"My Name\")\n",
        "\n",
        "class Professor(Employee):\n",
        "  def __init__(self,sapid,email):\n",
        "    self.id=sapid\n",
        "    self.email=email\n",
        "  def sapID(self):\n",
        "    print(\"Sap ID:\",self.id)\n",
        "  def iemail(self):\n",
        "    print(\"Email:\",self.email)\n",
        "  def iname(self,name):\n",
        "    self.name=name\n",
        "    print(\"Name:\",self.name)\n",
        "S=int(input(\"Enter ID:\"))\n",
        "E=input(\"Enter email:\")\n",
        "N=input(\"Enter name:\")\n",
        "P1=Professor(S, E)\n",
        "P1.iname(N)\n",
        "P1.sapID()\n",
        "P1.iemail()\n",
        "\n",
        "\n",
        "\n"
      ],
      "metadata": {
        "colab": {
          "base_uri": "https://localhost:8080/"
        },
        "id": "x5NeFDSyqYsr",
        "outputId": "35ea6d55-af3e-43ea-9174-d771c787b7af"
      },
      "execution_count": 30,
      "outputs": [
        {
          "output_type": "stream",
          "name": "stdout",
          "text": [
            "Enter ID:1223\n",
            "Enter email:fags@gmail.com\n",
            "Enter name:Brishav\n",
            "Name: Brishav\n",
            "Sap ID: 1223\n",
            "Email: fags@gmail.com\n"
          ]
        }
      ]
    },
    {
      "cell_type": "code",
      "source": [],
      "metadata": {
        "id": "ybmn50eDyCx2"
      },
      "execution_count": 29,
      "outputs": []
    }
  ]
}