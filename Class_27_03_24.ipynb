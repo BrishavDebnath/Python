{
  "nbformat": 4,
  "nbformat_minor": 0,
  "metadata": {
    "colab": {
      "provenance": [],
      "authorship_tag": "ABX9TyOwfrXcCT1XrM59KgVqs/tu",
      "include_colab_link": true
    },
    "kernelspec": {
      "name": "python3",
      "display_name": "Python 3"
    },
    "language_info": {
      "name": "python"
    }
  },
  "cells": [
    {
      "cell_type": "markdown",
      "metadata": {
        "id": "view-in-github",
        "colab_type": "text"
      },
      "source": [
        "<a href=\"https://colab.research.google.com/github/BrishavDebnath/Python/blob/main/Class_27_03_24.ipynb\" target=\"_parent\"><img src=\"https://colab.research.google.com/assets/colab-badge.svg\" alt=\"Open In Colab\"/></a>"
      ]
    },
    {
      "cell_type": "code",
      "source": [
        "!pip install abc"
      ],
      "metadata": {
        "colab": {
          "base_uri": "https://localhost:8080/"
        },
        "id": "vPS8dA7a7GiM",
        "outputId": "774fd84f-4ad7-4974-c816-464f260f5de2"
      },
      "execution_count": 4,
      "outputs": [
        {
          "output_type": "stream",
          "name": "stdout",
          "text": [
            "\u001b[31mERROR: Could not find a version that satisfies the requirement abc (from versions: none)\u001b[0m\u001b[31m\n",
            "\u001b[0m\u001b[31mERROR: No matching distribution found for abc\u001b[0m\u001b[31m\n",
            "\u001b[0m"
          ]
        }
      ]
    },
    {
      "cell_type": "code",
      "source": [
        "from abc import ABC,abstractmethod"
      ],
      "metadata": {
        "id": "HTKHQGsS7Lmq"
      },
      "execution_count": 8,
      "outputs": []
    },
    {
      "cell_type": "code",
      "execution_count": 25,
      "metadata": {
        "colab": {
          "base_uri": "https://localhost:8080/"
        },
        "id": "5IOvgTil2rtF",
        "outputId": "7bff1717-898a-42a2-9991-b799c20edfb1"
      },
      "outputs": [
        {
          "output_type": "stream",
          "name": "stdout",
          "text": [
            "25\n",
            "Something\n",
            "More!\n"
          ]
        }
      ],
      "source": [
        "\n",
        "class Shapes(ABC):\n",
        "  @abstractmethod         #@ is a decorator. when a class has a abstract method then it is a abstract class.\n",
        "  def sides(self):\n",
        "    pass\n",
        "  def Area(self):\n",
        "    print(\"AB\")\n",
        "\n",
        "  def Area(self,side):             #Method Overloading. When method definition is changed in the the same class.\n",
        "    self.side=side\n",
        "    area=self.side*self.side\n",
        "    print(area)\n",
        "\n",
        "class Triangle(Shapes):\n",
        "  def sides(self):\n",
        "    print(\"I have three sides!\")\n",
        "  def Area(self,side):                #Method overriding. It is part of polymorphism. When method is changed in different class.\n",
        "    super().Area(side)         # To access area of the inherited class\n",
        "    print(\"Something\")\n",
        "    print(\"More!\")\n",
        "\n",
        "T1=Triangle()\n",
        "T1.Area(5)\n",
        "\n",
        "\n"
      ]
    },
    {
      "cell_type": "code",
      "source": [
        "\n",
        "class Shapes(ABC):\n",
        "  @abstractmethod         #@ is a decorator. when a class has a abstract method then it is a abstract class.\n",
        "  def sides(self):\n",
        "    pass\n",
        "  def Area(self):\n",
        "    print(\"AB\")\n",
        "\n",
        "  def Area(self,side):             #Method Overloading. When method definition is changed in the the same class.\n",
        "    self.side=side\n",
        "    area=self.side*self.side\n",
        "    print(area)\n",
        "\n",
        "class Triangle(Shapes):\n",
        "  def sides(self):\n",
        "    print(\"I have three sides!\")\n",
        "  def Area(self,side):\n",
        "    super().Area(side)\n",
        "    print(\"Something\")\n",
        "    print(\"More!\")\n",
        "\n",
        "T1=Triangle()\n",
        "T1.Area(5)"
      ],
      "metadata": {
        "colab": {
          "base_uri": "https://localhost:8080/"
        },
        "id": "I2B0aR01_CmJ",
        "outputId": "7e4132b1-99d6-4822-cb26-cf4dc6437bf4"
      },
      "execution_count": 33,
      "outputs": [
        {
          "output_type": "stream",
          "name": "stdout",
          "text": [
            "25\n",
            "Something\n",
            "More!\n"
          ]
        }
      ]
    }
  ]
}