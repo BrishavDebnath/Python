{
  "nbformat": 4,
  "nbformat_minor": 0,
  "metadata": {
    "colab": {
      "provenance": [],
      "mount_file_id": "1wM62JtPvZKj1LMi1rKWPTJvY5Jeyi-aS",
      "authorship_tag": "ABX9TyMlbnpxzLu64R3yrS9/t5AY",
      "include_colab_link": true
    },
    "kernelspec": {
      "name": "python3",
      "display_name": "Python 3"
    },
    "language_info": {
      "name": "python"
    }
  },
  "cells": [
    {
      "cell_type": "markdown",
      "metadata": {
        "id": "view-in-github",
        "colab_type": "text"
      },
      "source": [
        "<a href=\"https://colab.research.google.com/github/BrishavDebnath/Python/blob/main/Lab_Assessment_1.ipynb\" target=\"_parent\"><img src=\"https://colab.research.google.com/assets/colab-badge.svg\" alt=\"Open In Colab\"/></a>"
      ]
    },
    {
      "cell_type": "code",
      "execution_count": null,
      "metadata": {
        "id": "c2B3hBr2mAEL"
      },
      "outputs": [],
      "source": [
        "#Write a python function that takes a positive integer and returns the sum of the cube of all the positive integers smaller than the specified number.\n"
      ]
    },
    {
      "cell_type": "code",
      "source": [
        "def sum_of_cubes(n):\n",
        "  sum=0\n",
        "  for i in range(1,n):\n",
        "    sum=sum+i**3\n",
        "  return (sum)\n",
        "num=int(input(\"Enter a positive integer:\"))\n",
        "print(\"The sum of cubes of all numbers smaller than specified number is:\",sum_of_cubes(num))"
      ],
      "metadata": {
        "colab": {
          "base_uri": "https://localhost:8080/"
        },
        "id": "2u5RTBR5nygi",
        "outputId": "410519fa-422f-421d-88d4-5ece32fc219e"
      },
      "execution_count": 1,
      "outputs": [
        {
          "output_type": "stream",
          "name": "stdout",
          "text": [
            "Enter a positive integer:5\n",
            "The sum of cubes of all numbers smaller than specified number is: 100\n"
          ]
        }
      ]
    },
    {
      "cell_type": "code",
      "source": [
        "#Write a function to print fibonacci series till n numbers.\n",
        "def fibonacci(n):\n",
        "  a=0\n",
        "  b=1\n",
        "  c=0\n",
        "  print(a)\n",
        "  print(b)\n",
        "  for i in range(1,n):\n",
        "    c=a+b\n",
        "    a=b\n",
        "    b=c\n",
        "    print(c)\n",
        "num=int(input(\"Enter a number:\"))\n",
        "print(fibonacci(num))\n",
        "\n",
        "\n"
      ],
      "metadata": {
        "colab": {
          "base_uri": "https://localhost:8080/"
        },
        "id": "fovTiL9rprb2",
        "outputId": "3f550502-2c12-4910-eb4b-4dc1e8004ab4"
      },
      "execution_count": 23,
      "outputs": [
        {
          "output_type": "stream",
          "name": "stdout",
          "text": [
            "Enter a number:10\n",
            "0\n",
            "1\n",
            "1\n",
            "2\n",
            "3\n",
            "5\n",
            "8\n",
            "13\n",
            "21\n",
            "34\n",
            "55\n",
            "None\n"
          ]
        }
      ]
    },
    {
      "cell_type": "code",
      "source": [
        "#Write a lambda function to find min max from a list.\n",
        "def max_min(num):\n",
        "  largest=0\n",
        "  for i in num:\n",
        "    if i>largest:\n",
        "      largest=i\n",
        "  min=1000000\n",
        "  for i in num:\n",
        "    if i<min:\n",
        "      min=i\n",
        "  return largest,min\n",
        "list1=[12,11,23,43,45,66,87]\n",
        "min_max=max_min(list1)\n",
        "print(min_max)\n",
        "\n",
        "\n",
        "\n",
        "\n",
        "\n"
      ],
      "metadata": {
        "colab": {
          "base_uri": "https://localhost:8080/"
        },
        "id": "q60t_qxTtlE_",
        "outputId": "08b979fb-fe93-4824-b704-793ca6aa171e"
      },
      "execution_count": 28,
      "outputs": [
        {
          "output_type": "stream",
          "name": "stdout",
          "text": [
            "(87, 11)\n"
          ]
        }
      ]
    },
    {
      "cell_type": "code",
      "source": [
        "%cd /content/drive/MyDrive/Colab Notebooks"
      ],
      "metadata": {
        "colab": {
          "base_uri": "https://localhost:8080/"
        },
        "id": "AEgQtJYy0EML",
        "outputId": "d8cce2d1-a81e-4f03-a5bd-235e749e9810"
      },
      "execution_count": 24,
      "outputs": [
        {
          "output_type": "stream",
          "name": "stdout",
          "text": [
            "/content/drive/MyDrive/Colab Notebooks\n"
          ]
        }
      ]
    },
    {
      "cell_type": "code",
      "source": [
        "!ls\n"
      ],
      "metadata": {
        "colab": {
          "base_uri": "https://localhost:8080/"
        },
        "id": "xCPLR6TC0G8D",
        "outputId": "9b0a2f7f-c684-4d73-eeb4-cd35f715ef1d"
      },
      "execution_count": 25,
      "outputs": [
        {
          "output_type": "stream",
          "name": "stdout",
          "text": [
            " class_20_02_24.py\t       Functions.py\t  Untitled11.ipynb   Untitled6.ipynb\n",
            " Class_Modules_20_02_2024.py   maximum_ele.py\t  Untitled1.ipynb    Untitled7.ipynb\n",
            "'Copy of Untitled0.ipynb'      my-app.py\t  Untitled2.ipynb    Untitled8.ipynb\n",
            "'Copy of Untitled1.ipynb'      __pycache__\t  Untitled3.ipynb    Untitled9.ipynb\n",
            "'Copy of Untitled2.ipynb'      Untitled0.ipynb\t  Untitled4.ipynb\n",
            "'Copy of Untitled5.ipynb'      Untitled10.ipynb   Untitled5.ipynb\n"
          ]
        }
      ]
    },
    {
      "cell_type": "code",
      "source": [
        "!python main_c.py"
      ],
      "metadata": {
        "colab": {
          "base_uri": "https://localhost:8080/"
        },
        "id": "aWq89sxP0Mht",
        "outputId": "56c460b3-1536-4923-9863-63e192a887f4"
      },
      "execution_count": 27,
      "outputs": [
        {
          "output_type": "stream",
          "name": "stdout",
          "text": [
            "Enter a positive integer:5\n",
            "The sum of cubes of all numbers smaller than specified number is: 100\n",
            "Enter a number:10\n",
            "0\n",
            "1\n",
            "1\n",
            "2\n",
            "3\n",
            "5\n",
            "8\n",
            "13\n",
            "21\n",
            "34\n",
            "55\n",
            "None\n",
            "The largest of a given list is: (87, 11)\n"
          ]
        }
      ]
    }
  ]
}