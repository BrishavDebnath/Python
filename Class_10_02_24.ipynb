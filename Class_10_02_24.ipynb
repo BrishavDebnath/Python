{
  "nbformat": 4,
  "nbformat_minor": 0,
  "metadata": {
    "colab": {
      "provenance": [],
      "authorship_tag": "ABX9TyNIGbatwrq7Pd2XZRe7SIgm",
      "include_colab_link": true
    },
    "kernelspec": {
      "name": "python3",
      "display_name": "Python 3"
    },
    "language_info": {
      "name": "python"
    }
  },
  "cells": [
    {
      "cell_type": "markdown",
      "metadata": {
        "id": "view-in-github",
        "colab_type": "text"
      },
      "source": [
        "<a href=\"https://colab.research.google.com/github/BrishavDebnath/Python/blob/main/Class_10_02_24.ipynb\" target=\"_parent\"><img src=\"https://colab.research.google.com/assets/colab-badge.svg\" alt=\"Open In Colab\"/></a>"
      ]
    },
    {
      "cell_type": "code",
      "execution_count": 1,
      "metadata": {
        "colab": {
          "base_uri": "https://localhost:8080/"
        },
        "id": "wcLWfY64Htta",
        "outputId": "e9c9cda2-9931-4125-b9e7-5d828cabe4c0"
      },
      "outputs": [
        {
          "output_type": "stream",
          "name": "stdout",
          "text": [
            "Enter a number:7\n",
            "The Factorial of the given number is  5040\n"
          ]
        }
      ],
      "source": [
        "#Factorial\n",
        "def factorial(num):\n",
        "  if num==0 or num==1:\n",
        "    return 1\n",
        "  else:\n",
        "    fact=1\n",
        "    for i in range(2,num+1):\n",
        "      fact=fact*i\n",
        "    return fact\n",
        "num=int(input(\"Enter a number:\"))\n",
        "print(\"The Factorial of the given number is \",factorial(num))"
      ]
    },
    {
      "cell_type": "code",
      "source": [
        "#Fibonacci series\n",
        "def fibonacci(num):\n",
        "  if num==0:\n",
        "    print(num)\n",
        "  if num==1:\n",
        "    print(num)\n",
        "  else:\n",
        "    a=0\n",
        "    sum=0\n",
        "    b=1\n",
        "    print(a)\n",
        "    for i in range(1,num+1):\n",
        "      print(b)\n",
        "      sum=a+b\n",
        "      a=b\n",
        "      b=sum\n",
        "num=int(input(\"Enter the number of terms:\"))\n",
        "fibonacci(num)"
      ],
      "metadata": {
        "colab": {
          "base_uri": "https://localhost:8080/"
        },
        "id": "HOUfIbSfIr86",
        "outputId": "132cf69b-b3c0-4659-fe9b-699731c74268"
      },
      "execution_count": 7,
      "outputs": [
        {
          "output_type": "stream",
          "name": "stdout",
          "text": [
            "Enter the number of terms:13\n",
            "0\n",
            "1\n",
            "1\n",
            "2\n",
            "3\n",
            "5\n",
            "8\n",
            "13\n",
            "21\n",
            "34\n",
            "55\n",
            "89\n",
            "144\n",
            "233\n"
          ]
        }
      ]
    },
    {
      "cell_type": "code",
      "source": [
        "#Write a Function to check whether a num is prime and even\n",
        "def primeeven(num):\n",
        "  if num==2:\n",
        "    print(\"2 is a prime number and also a even number.\")\n",
        "  if num==1:\n",
        "    print(\"1 is considered a prime number.\\n1 is an odd number.\")\n",
        "  if num==0:\n",
        "    print(\"0 is not considered a prime number\\n0 is neither odd nor even.\")\n",
        "  else:\n",
        "    for i in range(2,num):\n",
        "      if num%i==0:\n",
        "        print(num,\"is not a prime number.\\n\")\n",
        "        break\n",
        "    else:\n",
        "        print(num,\"is a prime number.\\n\")\n",
        "    if num%2==0:\n",
        "      print(num,\"is an even number.\")\n",
        "    else:\n",
        "      print(num,\"is an odd number.\")\n",
        "num=int(input(\"Enter a number:\"))\n",
        "primeeven(num)"
      ],
      "metadata": {
        "colab": {
          "base_uri": "https://localhost:8080/"
        },
        "id": "pcFYDuqKN7RO",
        "outputId": "0fa99d0a-32ce-4cda-9c85-fa482b07bc3f"
      },
      "execution_count": 11,
      "outputs": [
        {
          "output_type": "stream",
          "name": "stdout",
          "text": [
            "Enter a number:7\n",
            "7 is a prime number.\n",
            "\n",
            "7 is an odd number\n"
          ]
        }
      ]
    },
    {
      "cell_type": "code",
      "source": [
        "#Write a program to calculate the Fibonacci series of 8 terms through recursion.\n",
        "def fibonacci(num):\n",
        "  if num==0:\n",
        "    return 0\n",
        "  if num==1:\n",
        "    return 1\n",
        "  else:\n",
        "    return fibonacci(num-1)+fibonacci(num-2)\n",
        "num=int(input(\"Enter a number:\"))\n",
        "n=0\n",
        "for i in range(1,num+1):\n",
        "  print(fibonacci(n))\n",
        "  n+=1"
      ],
      "metadata": {
        "colab": {
          "base_uri": "https://localhost:8080/"
        },
        "id": "xZ8ehRitTGr5",
        "outputId": "f7a5bc38-75a3-47b6-c2bb-033c1b7df3c7"
      },
      "execution_count": 4,
      "outputs": [
        {
          "output_type": "stream",
          "name": "stdout",
          "text": [
            "Enter a number:7\n",
            "0\n",
            "1\n",
            "1\n",
            "2\n",
            "3\n",
            "5\n",
            "8\n"
          ]
        }
      ]
    }
  ]
}