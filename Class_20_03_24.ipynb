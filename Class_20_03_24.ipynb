{
  "nbformat": 4,
  "nbformat_minor": 0,
  "metadata": {
    "colab": {
      "provenance": [],
      "authorship_tag": "ABX9TyPr/SRub0x9FOH6SvYIMMVK",
      "include_colab_link": true
    },
    "kernelspec": {
      "name": "python3",
      "display_name": "Python 3"
    },
    "language_info": {
      "name": "python"
    }
  },
  "cells": [
    {
      "cell_type": "markdown",
      "metadata": {
        "id": "view-in-github",
        "colab_type": "text"
      },
      "source": [
        "<a href=\"https://colab.research.google.com/github/BrishavDebnath/Python/blob/main/Class_20_03_24.ipynb\" target=\"_parent\"><img src=\"https://colab.research.google.com/assets/colab-badge.svg\" alt=\"Open In Colab\"/></a>"
      ]
    },
    {
      "cell_type": "code",
      "execution_count": null,
      "metadata": {
        "id": "9g-4D9PsykGq"
      },
      "outputs": [],
      "source": [
        "#Inheritance"
      ]
    },
    {
      "cell_type": "code",
      "source": [
        "class A:\n",
        "  def show(self):\n",
        "    print(\"Hello\")\n",
        "class B(A):\n",
        "  def show2(self):\n",
        "    print(\"Everyone!\")\n",
        "class C(B):\n",
        "  def show3(self):\n",
        "    print(\"My Name is Brishav Debnath.\")\n",
        "\n",
        "\n",
        "b1=B()\n",
        "b1.show()\n",
        "b1.show2()\n",
        "b2=C()\n",
        "b2.show()\n",
        "b2.show2()\n",
        "b2.show3()\n"
      ],
      "metadata": {
        "colab": {
          "base_uri": "https://localhost:8080/"
        },
        "id": "kCka2yVNy4RM",
        "outputId": "e6cfbde3-0632-473f-f716-92536fb0df1f"
      },
      "execution_count": 7,
      "outputs": [
        {
          "output_type": "stream",
          "name": "stdout",
          "text": [
            "Hello\n",
            "Everyone!\n",
            "Hello\n",
            "Everyone!\n",
            "My Name is Brishav Debnath.\n"
          ]
        }
      ]
    },
    {
      "cell_type": "code",
      "source": [
        "class D:\n",
        "  def __init__(self):\n",
        "    print(\"I am inside init of D\")\n",
        "  def show(self):\n",
        "    print(\"show of D\")\n",
        "  def show2(self):\n",
        "    print(\"show2 of D\")\n"
      ],
      "metadata": {
        "id": "CeNhuoH419m_"
      },
      "execution_count": 12,
      "outputs": []
    },
    {
      "cell_type": "code",
      "source": [
        "d1=D()  #or   #D().show()\n",
        "d1.show()\n",
        "d1.show2()     ###init always gets executed in class whether we we call it or dont"
      ],
      "metadata": {
        "colab": {
          "base_uri": "https://localhost:8080/"
        },
        "id": "vr4n2yCu4Fci",
        "outputId": "fb336246-db76-490b-b7d2-c715e48d1ecb"
      },
      "execution_count": 14,
      "outputs": [
        {
          "output_type": "stream",
          "name": "stdout",
          "text": [
            "I am inside init of D\n",
            "show of D\n",
            "show2 of D\n"
          ]
        }
      ]
    },
    {
      "cell_type": "code",
      "source": [
        "class E(D):\n",
        "  def __init__(self):\n",
        "    super().__init__()     ##It executes init of D in E.\n",
        "    print(\"I am inside init of E\")\n",
        "  def show(self):\n",
        "    super().show()       ##It accesses show of D in E.\n",
        "    print(\"show of E\")\n",
        "  def show2(self):\n",
        "    super().show2()   ##It accesses show2 of D in E.\n",
        "    print(\"show2 of E\")\n",
        "\n",
        "e1=E()\n",
        "e1.show()\n",
        "e1.show2()"
      ],
      "metadata": {
        "colab": {
          "base_uri": "https://localhost:8080/"
        },
        "id": "Pfxr8CVm5dxU",
        "outputId": "bad34faa-5968-421f-a851-450be1113f26"
      },
      "execution_count": 19,
      "outputs": [
        {
          "output_type": "stream",
          "name": "stdout",
          "text": [
            "I am inside init of D\n",
            "I am inside init of E\n",
            "show of D\n",
            "show of E\n",
            "show2 of D\n",
            "show2 of E\n"
          ]
        }
      ]
    },
    {
      "cell_type": "code",
      "source": [
        "class F(E):\n",
        "  pass\n",
        "\n",
        "f1=F()\n",
        "f1.show()"
      ],
      "metadata": {
        "colab": {
          "base_uri": "https://localhost:8080/"
        },
        "id": "QpjlwGDQ8K2g",
        "outputId": "228a5704-ecb8-4706-d513-bbe9de81805e"
      },
      "execution_count": 21,
      "outputs": [
        {
          "output_type": "stream",
          "name": "stdout",
          "text": [
            "I am inside init of D\n",
            "I am inside init of E\n",
            "show of D\n",
            "show of E\n"
          ]
        }
      ]
    },
    {
      "cell_type": "code",
      "source": [
        "#Multi-level inheritance\n",
        "class G:\n",
        "  def __init__(self):\n",
        "    print(\"I am inside init of G\")\n",
        "  def showG1(self):\n",
        "    print(\"show of G\")\n",
        "  def showG2(self):\n",
        "    print(\"show2 of G\")\n",
        "\n",
        "\n",
        "\n",
        "class H(G):\n",
        "  def __init__(self):\n",
        "    print(\"I am inside init of H\")\n",
        "  def showH1(self):\n",
        "    print(\"show of H\")\n",
        "  def show2H2(self):\n",
        "    print(\"show2 of H\")\n",
        "\n",
        "\n",
        "\n",
        "class I(H):\n",
        "  def __init__(self):\n",
        "    print(\"I am inside init of I\")\n",
        "  def shoI1(self):\n",
        "    print(\"show of I\")\n",
        "  def showI2(self):\n",
        "    print(\"show2 of I\")\n",
        "\n",
        "\n",
        "i1=I()\n",
        "i1.showG1()\n",
        "i1.showG2()"
      ],
      "metadata": {
        "colab": {
          "base_uri": "https://localhost:8080/"
        },
        "id": "HZZfiSz59TZC",
        "outputId": "bb4be835-9220-45ba-844d-705be81525e0"
      },
      "execution_count": 23,
      "outputs": [
        {
          "output_type": "stream",
          "name": "stdout",
          "text": [
            "I am inside init of I\n",
            "show of G\n",
            "show2 of G\n"
          ]
        }
      ]
    },
    {
      "cell_type": "code",
      "source": [
        "#Multiple inheritance\n",
        "class G:\n",
        "  def __init__(self):\n",
        "    print(\"I am inside init of G\")\n",
        "  def showG1(self):\n",
        "    print(\"show of G\")\n",
        "  def showG2(self):\n",
        "    print(\"show2 of G\")\n",
        "\n",
        "\n",
        "\n",
        "class H:\n",
        "  def __init__(self):\n",
        "    print(\"I am inside init of H\")\n",
        "  def showH1(self):\n",
        "    print(\"show of H\")\n",
        "  def show2H2(self):\n",
        "    print(\"show2 of H\")\n",
        "\n",
        "\n",
        "\n",
        "class I(G,H):\n",
        "  def __init__(self):\n",
        "    print(\"I am inside init of I\")\n",
        "  def shoI1(self):\n",
        "    print(\"show of I\")\n",
        "  def showI2(self):\n",
        "    print(\"show2 of I\")\n",
        "\n",
        "\n",
        "i2=I()\n",
        "i2.showG1()\n",
        "i2.showG2()"
      ],
      "metadata": {
        "colab": {
          "base_uri": "https://localhost:8080/"
        },
        "id": "XeCDJ7ah-uWE",
        "outputId": "3aff6372-8045-4128-ffc5-e499c73f8f0a"
      },
      "execution_count": 25,
      "outputs": [
        {
          "output_type": "stream",
          "name": "stdout",
          "text": [
            "I am inside init of I\n",
            "show of G\n",
            "show2 of G\n"
          ]
        }
      ]
    },
    {
      "cell_type": "code",
      "source": [
        "#Write a class which takes a number n and generates divisibles of 11.\n",
        "\n",
        "class divisibles_of_11:\n",
        "  def __init__(self,n):\n",
        "    self.n=n\n",
        "  def divisibles_11(self):\n",
        "    list1=[]\n",
        "    for i in range(1,self.n+1):\n",
        "      if i%11==0:\n",
        "        list1.append(i)\n",
        "    print(list1)\n",
        "\n",
        "n=int(input(\"Enter a number:\"))\n",
        "d=divisibles_of_11(n)\n",
        "d.divisibles_11()\n",
        "\n",
        "\n"
      ],
      "metadata": {
        "colab": {
          "base_uri": "https://localhost:8080/"
        },
        "id": "kytOUulg_sO5",
        "outputId": "ff6133da-8eba-4f9f-802a-8cdd31c4487c"
      },
      "execution_count": 26,
      "outputs": [
        {
          "output_type": "stream",
          "name": "stdout",
          "text": [
            "Enter a number:1000\n",
            "[11, 22, 33, 44, 55, 66, 77, 88, 99, 110, 121, 132, 143, 154, 165, 176, 187, 198, 209, 220, 231, 242, 253, 264, 275, 286, 297, 308, 319, 330, 341, 352, 363, 374, 385, 396, 407, 418, 429, 440, 451, 462, 473, 484, 495, 506, 517, 528, 539, 550, 561, 572, 583, 594, 605, 616, 627, 638, 649, 660, 671, 682, 693, 704, 715, 726, 737, 748, 759, 770, 781, 792, 803, 814, 825, 836, 847, 858, 869, 880, 891, 902, 913, 924, 935, 946, 957, 968, 979, 990]\n"
          ]
        }
      ]
    },
    {
      "cell_type": "code",
      "source": [
        "#Abstract\n",
        "\n",
        "class Fruit:\n",
        "  def taste(self):\n",
        "    pass\n",
        "\n",
        "  def color(self):\n",
        "    pass\n",
        "\n",
        "  def richness(self):\n",
        "    pass\n",
        "\n",
        "\n",
        "class Mango(Fruit):\n",
        "  def taste(self):\n",
        "    print(\"Taste of mangoes in summer is awwesomee!\")\n",
        "  def color(self):\n",
        "    print(\"Mangoes are generally yellow in color!\")\n",
        "  def richness(self):\n",
        "    print(\"Mangoes are rich in vitamin A.\")\n",
        "\n",
        "\n",
        "class Papaya(Fruit):\n",
        "  def taste(self):\n",
        "    print(\"Taste of Papaya in summer is magic!\")\n",
        "  def color(self):\n",
        "    print(\"Papayas are generally yellow in color!\")\n",
        "  def richness(self):\n",
        "    print(\"Papayas are rich in magnesium.\")\n",
        "\n",
        "\n",
        "class Apple(Fruit):\n",
        "  def taste(self):\n",
        "    print(\"Taste of Apples in summer is Wow!\")\n",
        "  def color(self):\n",
        "    print(\"Apples are generally red in color!\")\n",
        "  def richness(self):\n",
        "    print(\"Apples are rich in magnesium.\")\n",
        "\n",
        "\n",
        "a=Apple()\n",
        "a.taste()\n",
        "a.color()\n",
        "a.richness()\n",
        "\n"
      ],
      "metadata": {
        "colab": {
          "base_uri": "https://localhost:8080/"
        },
        "id": "v332KJSpCGea",
        "outputId": "3ff181c0-adca-44a2-bb9d-31d98bf0fcab"
      },
      "execution_count": 30,
      "outputs": [
        {
          "output_type": "stream",
          "name": "stdout",
          "text": [
            "Taste of Apples in summer is Wow!\n",
            "Apples are generally red in color!\n",
            "Apples are rich in magnesium.\n"
          ]
        }
      ]
    }
  ]
}