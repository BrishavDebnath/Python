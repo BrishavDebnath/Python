{
  "nbformat": 4,
  "nbformat_minor": 0,
  "metadata": {
    "colab": {
      "provenance": [],
      "authorship_tag": "ABX9TyNFm+QoBoWmjAQiojOU2w4O",
      "include_colab_link": true
    },
    "kernelspec": {
      "name": "python3",
      "display_name": "Python 3"
    },
    "language_info": {
      "name": "python"
    }
  },
  "cells": [
    {
      "cell_type": "markdown",
      "metadata": {
        "id": "view-in-github",
        "colab_type": "text"
      },
      "source": [
        "<a href=\"https://colab.research.google.com/github/BrishavDebnath/Python/blob/main/Class_31_01_2024.ipynb\" target=\"_parent\"><img src=\"https://colab.research.google.com/assets/colab-badge.svg\" alt=\"Open In Colab\"/></a>"
      ]
    },
    {
      "cell_type": "code",
      "execution_count": 1,
      "metadata": {
        "id": "ay6rChEDdV5q",
        "colab": {
          "base_uri": "https://localhost:8080/"
        },
        "outputId": "03f70ba9-2e51-413d-ffca-629543d5f5ed"
      },
      "outputs": [
        {
          "output_type": "stream",
          "name": "stdout",
          "text": [
            "['H', 'e', 'l', 'l', 'o', '-', 'W', 'o', 'r', 'l', 'd']\n"
          ]
        }
      ],
      "source": [
        "str1=\"Hello-World\"\n",
        "list_1=[i for i in str1] #important(list comprehension)\n",
        "print(list_1)"
      ]
    },
    {
      "cell_type": "code",
      "source": [
        "# Adding even numbers from a range to a list\n",
        "list_2=[]\n",
        "for i in range(0,41):\n",
        "  if i%2==0:\n",
        "    list_2.append(i)\n",
        "print(list_2)\n",
        "#2nd method\n",
        "list_3=[i for i in range(40) if i%2==0] #important\n",
        "print(list_3)\n",
        "list_4=[i**3 for i in range (10)] #important\n",
        "print(list_4)"
      ],
      "metadata": {
        "colab": {
          "base_uri": "https://localhost:8080/"
        },
        "id": "pKas6pw-goNU",
        "outputId": "41650f17-aba2-4194-cec0-b4c51f10c311"
      },
      "execution_count": 7,
      "outputs": [
        {
          "output_type": "stream",
          "name": "stdout",
          "text": [
            "[0, 2, 4, 6, 8, 10, 12, 14, 16, 18, 20, 22, 24, 26, 28, 30, 32, 34, 36, 38, 40]\n",
            "[0, 2, 4, 6, 8, 10, 12, 14, 16, 18, 20, 22, 24, 26, 28, 30, 32, 34, 36, 38]\n",
            "[0, 1, 8, 27, 64, 125, 216, 343, 512, 729]\n"
          ]
        }
      ]
    },
    {
      "cell_type": "code",
      "source": [
        "#String example\n",
        "str_1=\"Hello \"\n",
        "print(id(str_1))# Prints memory address\n",
        "abc=input(\"Enter your name:\\n\")\n",
        "str_1+=abc+\".Welcome to Python Programming!\"\n",
        "print(str_1)\n",
        "print(id(str_1))\n",
        "\n"
      ],
      "metadata": {
        "colab": {
          "base_uri": "https://localhost:8080/"
        },
        "id": "A1--1cJLkcV1",
        "outputId": "b9f35560-dba9-42d7-ae04-624278e51f68"
      },
      "execution_count": 10,
      "outputs": [
        {
          "output_type": "stream",
          "name": "stdout",
          "text": [
            "Enter your name:\n",
            "Brishav\n",
            "Hello Brishav.Welcome to Python Programming!\n"
          ]
        }
      ]
    },
    {
      "cell_type": "code",
      "source": [
        "#Sets(Duplicate entries not allowed)\n",
        "#Dictionary example\n",
        "Dict={'Roll_No':\"16/001\",\"Name\":\"Brishav\",\"Course\":\"BTech\"}\n",
        "print(\"Dict[ROLL_NO]=\",Dict[\"Roll_No\"])\n",
        "print(\"Dict[NAME]\",Dict[\"Name\"])\n",
        "print(\"Dict[COURSE]\",Dict[\"Course\"])"
      ],
      "metadata": {
        "colab": {
          "base_uri": "https://localhost:8080/"
        },
        "id": "jFfCi_HemwoI",
        "outputId": "f7eecb0d-f2fb-4f0f-f5b5-af2388851644"
      },
      "execution_count": 12,
      "outputs": [
        {
          "output_type": "stream",
          "name": "stdout",
          "text": [
            "Dict[ROLL_NO]= 16/001\n",
            "Dict[NAME] Brishav\n",
            "Dict[COURSE] BTech\n"
          ]
        }
      ]
    },
    {
      "cell_type": "code",
      "source": [
        "#Dictionary Operations\n",
        "dict_1={\"sap-id\":500127120,\n",
        "         \"name\":\"Brishav\",\n",
        "         \"Qual\":\"12th Graduate\",\n",
        "         \"Dept\":\"SoCS\"}\n",
        "print(dict_1)\n",
        "print(dict_1['sap-id']) #value of key will be printed\n",
        "print(dict_1['Qual'])\n",
        "dict_1[\"Experience\"]=\"No Prior Experience.\"\n",
        "print(dict_1)\n",
        "#modification\n",
        "dict_1[\"Dept\"]=\"SoTC\"\n",
        "print(dict_1)"
      ],
      "metadata": {
        "id": "R6rtn_x6pCvP"
      },
      "execution_count": null,
      "outputs": []
    },
    {
      "cell_type": "code",
      "source": [
        "#1. Write a program to append the numbers in a list and after that print whether the numbers are even or odd.\n",
        "#2. Extract letters from a strings. The string is \"Welcome to the world of python\" and put them in a list.\n",
        "#3. Write a program to create a tuple and add 10 values to it and print all those values using a for loop.\n"
      ],
      "metadata": {
        "id": "HDWKpFEPqgBs"
      },
      "execution_count": null,
      "outputs": []
    },
    {
      "cell_type": "code",
      "source": [
        "#1. Write a program to append the numbers in a list and after that print whether the numbers are even or odd.\n",
        "list_1=[i for i in range(1,21)]\n",
        "print(list_1)\n",
        "for i in range(0,20):\n",
        "  if list_1[i]%2==0:\n",
        "    print(\"list_1[\"+str(i)+\"]\"+\"is even and is :\",list_1[i])\n",
        "  else:\n",
        "    print(\"list_1[\"+str(i)+\"]\"+\"is odd and is :\",list_1[i])"
      ],
      "metadata": {
        "colab": {
          "base_uri": "https://localhost:8080/"
        },
        "id": "a7nbI-O5rRHG",
        "outputId": "4f8c05db-a49c-49b8-8384-4488589b6db1"
      },
      "execution_count": 16,
      "outputs": [
        {
          "output_type": "stream",
          "name": "stdout",
          "text": [
            "[1, 2, 3, 4, 5, 6, 7, 8, 9, 10, 11, 12, 13, 14, 15, 16, 17, 18, 19, 20]\n",
            "list_1[0]is odd and is : 1\n",
            "list_1[1]is even and is : 2\n",
            "list_1[2]is odd and is : 3\n",
            "list_1[3]is even and is : 4\n",
            "list_1[4]is odd and is : 5\n",
            "list_1[5]is even and is : 6\n",
            "list_1[6]is odd and is : 7\n",
            "list_1[7]is even and is : 8\n",
            "list_1[8]is odd and is : 9\n",
            "list_1[9]is even and is : 10\n",
            "list_1[10]is odd and is : 11\n",
            "list_1[11]is even and is : 12\n",
            "list_1[12]is odd and is : 13\n",
            "list_1[13]is even and is : 14\n",
            "list_1[14]is odd and is : 15\n",
            "list_1[15]is even and is : 16\n",
            "list_1[16]is odd and is : 17\n",
            "list_1[17]is even and is : 18\n",
            "list_1[18]is odd and is : 19\n",
            "list_1[19]is even and is : 20\n"
          ]
        }
      ]
    },
    {
      "cell_type": "code",
      "source": [
        "#2. Extract letters from a strings. The string is \"Welcome to the world of python\" and put them in a list.\n",
        "str_2=\"Welcome to the World of Python!\"\n",
        "list_3=[i for i in str_2]\n",
        "print(list_3)\n",
        "\n"
      ],
      "metadata": {
        "colab": {
          "base_uri": "https://localhost:8080/"
        },
        "id": "uBk-ukjft8Rz",
        "outputId": "11a0550d-724f-42b7-ecea-5501ea18c69c"
      },
      "execution_count": 17,
      "outputs": [
        {
          "output_type": "stream",
          "name": "stdout",
          "text": [
            "['W', 'e', 'l', 'c', 'o', 'm', 'e', ' ', 't', 'o', ' ', 't', 'h', 'e', ' ', 'W', 'o', 'r', 'l', 'd', ' ', 'o', 'f', ' ', 'P', 'y', 't', 'h', 'o', 'n', '!']\n"
          ]
        }
      ]
    },
    {
      "cell_type": "code",
      "source": [
        "#3. Write a program to create a tuple and add 10 values to it and print all those values using a for loop.\n",
        "tuple_1 = (22, 33, 44, \"Brishav\", \"Ninety\", 67, 12, \"Hello\", 66, \"World\")\n",
        "for i in range(0, 10):\n",
        "  print(tuple_1[i])"
      ],
      "metadata": {
        "colab": {
          "base_uri": "https://localhost:8080/"
        },
        "id": "TQLre77uu8Nv",
        "outputId": "ae84c316-7182-439c-8d2c-26b370d9a2c6"
      },
      "execution_count": 19,
      "outputs": [
        {
          "output_type": "stream",
          "name": "stdout",
          "text": [
            "22\n",
            "33\n",
            "44\n",
            "Brishav\n",
            "Ninety\n",
            "67\n",
            "12\n",
            "Hello\n",
            "66\n",
            "World\n"
          ]
        }
      ]
    }
  ]
}