{
  "nbformat": 4,
  "nbformat_minor": 0,
  "metadata": {
    "colab": {
      "provenance": [],
      "authorship_tag": "ABX9TyPTAGBpDHab8ztUDEegdJ4I",
      "include_colab_link": true
    },
    "kernelspec": {
      "name": "python3",
      "display_name": "Python 3"
    },
    "language_info": {
      "name": "python"
    }
  },
  "cells": [
    {
      "cell_type": "markdown",
      "metadata": {
        "id": "view-in-github",
        "colab_type": "text"
      },
      "source": [
        "<a href=\"https://colab.research.google.com/github/BrishavDebnath/Python/blob/main/Class_27-01-24.ipynb\" target=\"_parent\"><img src=\"https://colab.research.google.com/assets/colab-badge.svg\" alt=\"Open In Colab\"/></a>"
      ]
    },
    {
      "cell_type": "code",
      "execution_count": null,
      "metadata": {
        "colab": {
          "base_uri": "https://localhost:8080/"
        },
        "id": "ZmAmTNoPAXD5",
        "outputId": "f2e77096-379d-4898-f3ad-5dfa32d48386"
      },
      "outputs": [
        {
          "output_type": "stream",
          "name": "stdout",
          "text": [
            "abc\bdef\n"
          ]
        }
      ],
      "source": [
        "print(\"abc\\bdef\")"
      ]
    },
    {
      "cell_type": "code",
      "source": [
        "print(\"Example of using the \\x41 escape sequence.\")\n"
      ],
      "metadata": {
        "colab": {
          "base_uri": "https://localhost:8080/"
        },
        "id": "ADw7hYTqFbfo",
        "outputId": "8186be97-2094-46a4-9d68-9778d8960818"
      },
      "execution_count": null,
      "outputs": [
        {
          "output_type": "stream",
          "name": "stdout",
          "text": [
            "Example of using the A escape sequence.\n"
          ]
        }
      ]
    },
    {
      "cell_type": "code",
      "source": [
        "num=int(input(\"Enter a Number:\\n\"))\n",
        "if num==0:\n",
        "  print(\"0 is not considered a prime number!\")\n",
        "if num<0:\n",
        "  print(str(num)+\"is negative. \")"
      ],
      "metadata": {
        "id": "qPDL2okWFgoI"
      },
      "execution_count": null,
      "outputs": []
    },
    {
      "cell_type": "code",
      "source": [
        "#Write a program to generate Fibonacci series.\n",
        "num=int(input(\"Enter a Number:\\n\"))\n",
        "sum=0\n",
        "a=0\n",
        "b=1\n",
        "print(\"Fibonacci Series:\")\n",
        "print(a)\n",
        "for i in range(1,num+1):\n",
        "  print(b)\n",
        "  sum=a+b\n",
        "  a=b\n",
        "  b=sum\n",
        "\n"
      ],
      "metadata": {
        "colab": {
          "base_uri": "https://localhost:8080/"
        },
        "id": "XkUeedM7ONnv",
        "outputId": "f7acca74-bc5d-4226-ac8f-c8c30ddd3236"
      },
      "execution_count": null,
      "outputs": [
        {
          "output_type": "stream",
          "name": "stdout",
          "text": [
            "Enter a Number:\n",
            "7\n",
            "Fibonacci Series:\n",
            "0\n",
            "1\n",
            "1\n",
            "2\n",
            "3\n",
            "5\n",
            "8\n",
            "13\n"
          ]
        }
      ]
    },
    {
      "cell_type": "code",
      "source": [
        "#Write a python program to display the multiplication table.(Use input function and for loop)\n",
        "#Write a program program to check armstrong number.\n",
        "#Write a program to find armstrong number in an interval."
      ],
      "metadata": {
        "id": "VbErro9DSFuM"
      },
      "execution_count": null,
      "outputs": []
    },
    {
      "cell_type": "code",
      "source": [
        "#Write a python program to display the multiplication table.(Use input function and for loop)\n",
        "num=int(input(\"Enter a number:\\n\"))\n",
        "print(\"Multiplication table of \",num)\n",
        "for i in range(1,11):\n",
        "  print(str(num)+\"X\"+str(i)+\":\"+str(num*i))\n",
        "  int(num)\n",
        "  int(i)"
      ],
      "metadata": {
        "colab": {
          "base_uri": "https://localhost:8080/"
        },
        "id": "OhLJ41ixTPei",
        "outputId": "fb27d6c6-9c60-47d4-842e-ab5cc6fea599"
      },
      "execution_count": null,
      "outputs": [
        {
          "output_type": "stream",
          "name": "stdout",
          "text": [
            "Enter a number:\n",
            "7\n",
            "Multiplication table of  7\n",
            "7X1:7\n",
            "7X2:14\n",
            "7X3:21\n",
            "7X4:28\n",
            "7X5:35\n",
            "7X6:42\n",
            "7X7:49\n",
            "7X8:56\n",
            "7X9:63\n",
            "7X10:70\n"
          ]
        }
      ]
    },
    {
      "cell_type": "code",
      "source": [
        "#Write a program to check whether a given number is a armstrong number or not.\n",
        "num1=input(\"Enter a number:\\n\")\n",
        "n=len(num1)\n",
        "r=0\n",
        "sum=0\n",
        "num1=int(num1)\n",
        "number=num1\n",
        "while (number != 0):\n",
        "  r=number%10\n",
        "  sum=sum+r**n\n",
        "  number=number//10\n",
        "if num1==sum:\n",
        "  print(num1,\"is an Armstrong number.\")\n",
        "else:\n",
        "  print(num1,\"is not an Armstrong number.\")\n"
      ],
      "metadata": {
        "colab": {
          "base_uri": "https://localhost:8080/"
        },
        "id": "Wm8ItwQ_VyIy",
        "outputId": "4021b624-cc74-427f-992a-451d495ceeeb"
      },
      "execution_count": 10,
      "outputs": [
        {
          "output_type": "stream",
          "name": "stdout",
          "text": [
            "Enter a number:\n",
            "151\n",
            "151 is not an Armstrong number.\n"
          ]
        }
      ]
    },
    {
      "cell_type": "code",
      "source": [
        "num=input(\"Enter a number:\")\n",
        "n=len(num)\n",
        "print(n)\n",
        "print(type(n))"
      ],
      "metadata": {
        "id": "9YqFsPp9aMpB",
        "colab": {
          "base_uri": "https://localhost:8080/"
        },
        "outputId": "873cbe93-dfd0-4783-f444-a8dca0ec1172"
      },
      "execution_count": 12,
      "outputs": [
        {
          "output_type": "stream",
          "name": "stdout",
          "text": [
            "Enter a number:153\n",
            "3\n",
            "<class 'int'>\n"
          ]
        }
      ]
    },
    {
      "cell_type": "code",
      "source": [
        "#Write a Program to find Armstrong number in an interval.\n",
        "num2=int(input(\"Enter the first number of the interval:\\n\"))\n",
        "num3=int(input(\"Enter the last number of the interval:\\n\"))\n",
        "print(\"Armstrong Numbers in the given Interval are:\\n\")\n",
        "for i in range(num2,num3+1):\n",
        "  sum1=0\n",
        "  r1=0\n",
        "  i=str(i)\n",
        "  n1=len(i)\n",
        "  i=int(i)\n",
        "  temp=i\n",
        "  while(temp>0):\n",
        "    r1=temp%10\n",
        "    sum1=sum1+r1**n1\n",
        "    temp//=10\n",
        "  if sum1 == i:\n",
        "    print(i,\" is a Armstrong Number.\")\n",
        "\n",
        "\n",
        "\n",
        "\n",
        "\n",
        "\n",
        "\n"
      ],
      "metadata": {
        "colab": {
          "base_uri": "https://localhost:8080/"
        },
        "id": "oA4Khzn-a6G9",
        "outputId": "0a9d7de9-6219-49ac-c2a9-e7510e562183"
      },
      "execution_count": 26,
      "outputs": [
        {
          "output_type": "stream",
          "name": "stdout",
          "text": [
            "Enter the first number of the interval:\n",
            "100\n",
            "Enter the last number of the interval:\n",
            "2000\n",
            "Armstrong Numbers in the given Interval are:\n",
            "\n",
            "153  is a Armstrong Number.\n",
            "370  is a Armstrong Number.\n",
            "371  is a Armstrong Number.\n",
            "407  is a Armstrong Number.\n",
            "1634  is a Armstrong Number.\n"
          ]
        }
      ]
    }
  ]
}