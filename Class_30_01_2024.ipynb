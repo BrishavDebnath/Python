{
  "nbformat": 4,
  "nbformat_minor": 0,
  "metadata": {
    "colab": {
      "provenance": [],
      "authorship_tag": "ABX9TyPMttCd+Emp972wka6zjWla",
      "include_colab_link": true
    },
    "kernelspec": {
      "name": "python3",
      "display_name": "Python 3"
    },
    "language_info": {
      "name": "python"
    }
  },
  "cells": [
    {
      "cell_type": "markdown",
      "metadata": {
        "id": "view-in-github",
        "colab_type": "text"
      },
      "source": [
        "<a href=\"https://colab.research.google.com/github/BrishavDebnath/Python/blob/main/Class_30_01_2024.ipynb\" target=\"_parent\"><img src=\"https://colab.research.google.com/assets/colab-badge.svg\" alt=\"Open In Colab\"/></a>"
      ]
    },
    {
      "cell_type": "code",
      "execution_count": 2,
      "metadata": {
        "colab": {
          "base_uri": "https://localhost:8080/"
        },
        "id": "HcEiVvpY5nRV",
        "outputId": "e188e854-2bc6-41e2-ff80-22c84fb857f2"
      },
      "outputs": [
        {
          "output_type": "stream",
          "name": "stdout",
          "text": [
            "\\a\n"
          ]
        }
      ],
      "source": [
        "print(R\"\\a\")"
      ]
    },
    {
      "cell_type": "code",
      "source": [
        "str=\"Python Programming\"\n",
        "print(str[0])\n",
        "print(str[2:10])\n",
        "print(str[3:8])"
      ],
      "metadata": {
        "colab": {
          "base_uri": "https://localhost:8080/"
        },
        "id": "63UxhcZDAG89",
        "outputId": "2ef7dfb2-1e47-48f9-b2a6-0f812db28063"
      },
      "execution_count": 7,
      "outputs": [
        {
          "output_type": "stream",
          "name": "stdout",
          "text": [
            "P\n",
            "thon Pro\n",
            "hon P\n"
          ]
        }
      ]
    },
    {
      "cell_type": "code",
      "source": [
        "list1=['a','bc',78,1.23]\n",
        "list2=['d',78]\n",
        "print(list1)\n",
        "print(list1[0])\n",
        "print(list1[1:3])\n",
        "print(list1[2:])\n",
        "print(list1*2)\n",
        "print(list1+list2)\n"
      ],
      "metadata": {
        "colab": {
          "base_uri": "https://localhost:8080/"
        },
        "id": "CWRnN8zOArTM",
        "outputId": "2c900092-3fc7-4e53-a7a1-522b74a18765"
      },
      "execution_count": 3,
      "outputs": [
        {
          "output_type": "stream",
          "name": "stdout",
          "text": [
            "['a', 'bc', 78, 1.23]\n",
            "a\n",
            "['bc', 78]\n",
            "[78, 1.23]\n",
            "['a', 'bc', 78, 1.23, 'a', 'bc', 78, 1.23]\n",
            "['a', 'bc', 78, 1.23, 'd', 78]\n"
          ]
        }
      ]
    },
    {
      "cell_type": "code",
      "source": [
        "names=[\"sajid\",\"nadeem\",\"touseef\",\"shahid\",\"Ram\"]\n",
        "names.append(\"Ajay\")\n",
        "print(names)\n",
        "names.insert(0,\"Rama\")\n",
        "print(names)\n",
        "names.remove(\"nadeem\")\n",
        "print(names)\n",
        "print(\"sajid\" in names)\n",
        "print(names)\n",
        "print(len(names))\n",
        "names.clear()\n",
        "print(names)"
      ],
      "metadata": {
        "colab": {
          "base_uri": "https://localhost:8080/"
        },
        "id": "99OCHCdzDJ_i",
        "outputId": "99ed0177-2247-44ba-f0c6-7397fb473b83"
      },
      "execution_count": 8,
      "outputs": [
        {
          "output_type": "stream",
          "name": "stdout",
          "text": [
            "['sajid', 'nadeem', 'touseef', 'shahid', 'Ram', 'Ajay']\n",
            "['Rama', 'sajid', 'nadeem', 'touseef', 'shahid', 'Ram', 'Ajay']\n",
            "['Rama', 'sajid', 'touseef', 'shahid', 'Ram', 'Ajay']\n",
            "True\n",
            "['Rama', 'sajid', 'touseef', 'shahid', 'Ram', 'Ajay']\n",
            "6\n",
            "[]\n"
          ]
        }
      ]
    },
    {
      "cell_type": "code",
      "source": [
        "num_list=[1,2,3,4,5,6,7]\n",
        "for i in num_list:\n",
        "  print(i)"
      ],
      "metadata": {
        "colab": {
          "base_uri": "https://localhost:8080/"
        },
        "id": "GQFej1b4EZR1",
        "outputId": "f857a1a0-2221-4df1-fe43-83045c4433f7"
      },
      "execution_count": 9,
      "outputs": [
        {
          "output_type": "stream",
          "name": "stdout",
          "text": [
            "1\n",
            "2\n",
            "3\n",
            "4\n",
            "5\n",
            "6\n",
            "7\n"
          ]
        }
      ]
    },
    {
      "cell_type": "code",
      "source": [
        "names=[1,2,3,4,5,6,7,\"Brishav\",10.5]\n",
        "for i in names:\n",
        "  print(names.pop())"
      ],
      "metadata": {
        "colab": {
          "base_uri": "https://localhost:8080/"
        },
        "id": "KnDliNnnFOiy",
        "outputId": "36f0d819-c5d3-46c3-d056-d68a6f0f5a8c"
      },
      "execution_count": 13,
      "outputs": [
        {
          "output_type": "stream",
          "name": "stdout",
          "text": [
            "10.5\n",
            "Brishav\n",
            "7\n",
            "6\n",
            "5\n"
          ]
        }
      ]
    },
    {
      "cell_type": "code",
      "source": [
        "tup=('a','b',78,1.23)\n",
        "tup2=('b',78)\n",
        "print(tup)\n",
        "print(tup[0])\n",
        "print(tup[1:3])\n",
        "print(tup[2:])\n",
        "print(tup*2)\n",
        "print(tup+tup2)"
      ],
      "metadata": {
        "colab": {
          "base_uri": "https://localhost:8080/"
        },
        "id": "2db80yQpHhC0",
        "outputId": "ce276c65-8edc-41fe-a472-a52f95065b26"
      },
      "execution_count": 14,
      "outputs": [
        {
          "output_type": "stream",
          "name": "stdout",
          "text": [
            "('a', 'b', 78, 1.23)\n",
            "a\n",
            "('b', 78)\n",
            "(78, 1.23)\n",
            "('a', 'b', 78, 1.23, 'a', 'b', 78, 1.23)\n",
            "('a', 'b', 78, 1.23, 'b', 78)\n"
          ]
        }
      ]
    },
    {
      "cell_type": "code",
      "source": [
        "#write a program to iterate two s strings.\n",
        "#Write a Program to print the tables starting from 2 to 11\n",
        "#write a program to move through a list"
      ],
      "metadata": {
        "id": "fZc4Ed3nH-Zm"
      },
      "execution_count": null,
      "outputs": []
    },
    {
      "cell_type": "code",
      "source": [
        "#1\n",
        "str1=input(\"Enter first String:\")\n",
        "str2=input(\"Enter second string:\")\n",
        "l1=len(str1)\n",
        "l2=len(str2)\n",
        "for i in range(0,l1):\n",
        "  print(str1[i])\n",
        "print(\"\\n\")\n",
        "for i in range(0,l2):\n",
        "  print(str2[i])"
      ],
      "metadata": {
        "colab": {
          "base_uri": "https://localhost:8080/"
        },
        "id": "-hDoCHMNIk9m",
        "outputId": "9d64af0f-91a2-430f-8f20-c09982e28d7d"
      },
      "execution_count": 16,
      "outputs": [
        {
          "output_type": "stream",
          "name": "stdout",
          "text": [
            "Enter first String:Brishav Debnath\n",
            "Enter second string:Python is cool\n",
            "B\n",
            "r\n",
            "i\n",
            "s\n",
            "h\n",
            "a\n",
            "v\n",
            " \n",
            "D\n",
            "e\n",
            "b\n",
            "n\n",
            "a\n",
            "t\n",
            "h\n",
            "\n",
            "\n",
            "P\n",
            "y\n",
            "t\n",
            "h\n",
            "o\n",
            "n\n",
            " \n",
            "i\n",
            "s\n",
            " \n",
            "c\n",
            "o\n",
            "o\n",
            "l\n"
          ]
        }
      ]
    },
    {
      "cell_type": "code",
      "source": [
        "#2\n",
        "for i in range(2,12):\n",
        " print(\"Multiplication table of \",i)\n",
        " for j in range(1,11):\n",
        "  print(str(i)+\"X\"+str(j)+\"=\"+str(i*j))\n",
        " print(\"\\n\")\n",
        "\n",
        ""
      ],
      "metadata": {
        "colab": {
          "base_uri": "https://localhost:8080/",
          "height": 263
        },
        "id": "AHbOrQePJ8Pn",
        "outputId": "6918744b-0c3b-48b5-e5d5-722326e82c7b"
      },
      "execution_count": 19,
      "outputs": [
        {
          "output_type": "stream",
          "name": "stdout",
          "text": [
            "Multiplication table of  2\n"
          ]
        },
        {
          "output_type": "error",
          "ename": "TypeError",
          "evalue": "'str' object is not callable",
          "traceback": [
            "\u001b[0;31m---------------------------------------------------------------------------\u001b[0m",
            "\u001b[0;31mTypeError\u001b[0m                                 Traceback (most recent call last)",
            "\u001b[0;32m<ipython-input-19-5649a434d7d5>\u001b[0m in \u001b[0;36m<cell line: 2>\u001b[0;34m()\u001b[0m\n\u001b[1;32m      3\u001b[0m  \u001b[0mprint\u001b[0m\u001b[0;34m(\u001b[0m\u001b[0;34m\"Multiplication table of \"\u001b[0m\u001b[0;34m,\u001b[0m\u001b[0mi\u001b[0m\u001b[0;34m)\u001b[0m\u001b[0;34m\u001b[0m\u001b[0;34m\u001b[0m\u001b[0m\n\u001b[1;32m      4\u001b[0m  \u001b[0;32mfor\u001b[0m \u001b[0mj\u001b[0m \u001b[0;32min\u001b[0m \u001b[0mrange\u001b[0m\u001b[0;34m(\u001b[0m\u001b[0;36m1\u001b[0m\u001b[0;34m,\u001b[0m\u001b[0;36m11\u001b[0m\u001b[0;34m)\u001b[0m\u001b[0;34m:\u001b[0m\u001b[0;34m\u001b[0m\u001b[0;34m\u001b[0m\u001b[0m\n\u001b[0;32m----> 5\u001b[0;31m   \u001b[0mprint\u001b[0m\u001b[0;34m(\u001b[0m\u001b[0mstr\u001b[0m\u001b[0;34m(\u001b[0m\u001b[0mi\u001b[0m\u001b[0;34m)\u001b[0m\u001b[0;34m+\u001b[0m\u001b[0;34m\"X\"\u001b[0m\u001b[0;34m+\u001b[0m\u001b[0mstr\u001b[0m\u001b[0;34m(\u001b[0m\u001b[0mj\u001b[0m\u001b[0;34m)\u001b[0m\u001b[0;34m+\u001b[0m\u001b[0;34m\"=\"\u001b[0m\u001b[0;34m+\u001b[0m\u001b[0mstr\u001b[0m\u001b[0;34m(\u001b[0m\u001b[0mi\u001b[0m\u001b[0;34m*\u001b[0m\u001b[0mj\u001b[0m\u001b[0;34m)\u001b[0m\u001b[0;34m)\u001b[0m\u001b[0;34m\u001b[0m\u001b[0;34m\u001b[0m\u001b[0m\n\u001b[0m\u001b[1;32m      6\u001b[0m  \u001b[0mprint\u001b[0m\u001b[0;34m(\u001b[0m\u001b[0;34m\"\\n\"\u001b[0m\u001b[0;34m)\u001b[0m\u001b[0;34m\u001b[0m\u001b[0;34m\u001b[0m\u001b[0m\n\u001b[1;32m      7\u001b[0m \u001b[0;34m\u001b[0m\u001b[0m\n",
            "\u001b[0;31mTypeError\u001b[0m: 'str' object is not callable"
          ]
        }
      ]
    },
    {
      "cell_type": "code",
      "source": [
        "#3\n",
        "n=int(input(\"Enter number of items in your list:\\n\"))\n",
        "my_list=[]\n",
        "for i in range(0,n):\n",
        "  my_list.append(input(\"Enter\"+\"list\"+\"[\"+str(i)+\"]\"+\":\"))\n",
        "print(\"Your list is:\\n \")\n",
        "print(my_list)\n",
        "\n"
      ],
      "metadata": {
        "colab": {
          "base_uri": "https://localhost:8080/"
        },
        "id": "2A4mZsA9Ny_S",
        "outputId": "5d409ce3-78ad-4f6a-d796-4a1795273a3d"
      },
      "execution_count": 5,
      "outputs": [
        {
          "output_type": "stream",
          "name": "stdout",
          "text": [
            "Enter number of items in your list:\n",
            "5\n",
            "Enterlist[0]:77\n",
            "Enterlist[1]:87\n",
            "Enterlist[2]:Brishav\n",
            "Enterlist[3]:Hello\n",
            "Enterlist[4]:99\n",
            "Your list is:\n",
            " \n",
            "['77', '87', 'Brishav', 'Hello', '99']\n"
          ]
        }
      ]
    }
  ]
}